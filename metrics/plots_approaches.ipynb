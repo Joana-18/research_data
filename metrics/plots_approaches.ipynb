{
 "cells": [
  {
   "cell_type": "code",
   "execution_count": null,
   "metadata": {},
   "outputs": [],
   "source": [
    "import pandas as pd"
   ]
  },
  {
   "cell_type": "code",
   "execution_count": null,
   "metadata": {},
   "outputs": [],
   "source": [
    "nemo = pd.read_csv(r\"\\research_data\\metrics\\NeMo.csv\")\n",
    "pyannote = pd.read_csv(r\"\\research_data\\metrics\\pyannote.csv\")\n",
    "pyaudio = pd.read_csv(r\"\\research_data\\metrics\\pyAudioAnalysis.csv\")\n",
    "sd = pd.read_csv(r\"\\research_data\\metrics\\simple_diarizer.csv\")\n",
    "whisperx = pd.read_csv(r\"\\research_data\\metrics\\WhisperX.csv\")"
   ]
  },
  {
   "cell_type": "code",
   "execution_count": null,
   "metadata": {},
   "outputs": [],
   "source": [
    "sd['Specs'] = sd['Specs'].replace('ecapa_ahc', 'ECAPA + AHC')\n",
    "sd['Specs'] = sd['Specs'].replace('ecapa_sc', 'ECAPA + SC')\n",
    "sd['Specs'] = sd['Specs'].replace('xvec_ahc', 'x-vectors + AHC')\n",
    "sd['Specs'] = sd['Specs'].replace('xvec_sc', 'x-vectors + SC')\n",
    "pyannote['Method'] = pyannote['Method'].replace('PyAnnote', 'pyannote')"
   ]
  },
  {
   "cell_type": "code",
   "execution_count": null,
   "metadata": {},
   "outputs": [],
   "source": [
    "nemo['Version'] = ''\n",
    "pyaudio['Version'] = ''\n",
    "sd['Version'] = ''\n",
    "nemo['Pipeline'] = 'NeMo'\n",
    "pyaudio['Pipeline'] = 'pyAudioAnalysis'\n",
    "sd['Pipeline'] = 'SD'\n",
    "sd['Method'] = sd['Specs']\n",
    "sd = sd.drop(['Specs'], axis=1)\n",
    "pyannote = pyannote.rename({'Method': 'Pipeline'}, axis=1)\n",
    "whisperx = whisperx.rename({'Method': 'Pipeline'}, axis=1)\n",
    "pyannote['Version'] = pyannote['Version'].astype(str)\n",
    "whisperx['Version'] = whisperx['Version'].astype(str)"
   ]
  },
  {
   "cell_type": "code",
   "execution_count": null,
   "metadata": {},
   "outputs": [],
   "source": [
    "df_all = pd.concat([nemo, pyaudio, sd, pyannote, whisperx], axis=0)\n",
    "df_all['Dataset'] = df_all['Dataset'].replace('ThisAmericanLife', 'TAL')"
   ]
  },
  {
   "cell_type": "code",
   "execution_count": null,
   "metadata": {},
   "outputs": [],
   "source": [
    "df_all"
   ]
  },
  {
   "cell_type": "code",
   "execution_count": null,
   "metadata": {},
   "outputs": [],
   "source": [
    "df_all['Set'] = df_all['Set'].fillna(\" \")\n",
    "df_all['Method'] = df_all['Method'].fillna(\" \")"
   ]
  },
  {
   "cell_type": "code",
   "execution_count": null,
   "metadata": {},
   "outputs": [],
   "source": [
    "df_all['Set'] = df_all['Set'].str.replace('Test',' ')"
   ]
  },
  {
   "cell_type": "code",
   "execution_count": null,
   "metadata": {},
   "outputs": [],
   "source": [
    "df_all.loc[df_all[\"Dataset\"] == \"This American Life\", \"Dataset\"] = 'TAL'\n",
    "df_all.loc[df_all[\"Dataset\"] == \"MSDWILD\", \"Dataset\"] = 'MSDWild'\n",
    "df_all"
   ]
  },
  {
   "cell_type": "code",
   "execution_count": null,
   "metadata": {},
   "outputs": [],
   "source": [
    "df_all['DataSet'] = df_all[['Dataset', 'Set']].agg(' '.join, axis=1)"
   ]
  },
  {
   "cell_type": "code",
   "execution_count": null,
   "metadata": {},
   "outputs": [],
   "source": [
    "df_all['Value'] = round(df_all['Value'] * 100, 3)"
   ]
  },
  {
   "cell_type": "code",
   "execution_count": null,
   "metadata": {},
   "outputs": [],
   "source": [
    "df_all['Pipeline Specs'] = df_all[['Pipeline', 'Version']].agg(' '.join, axis=1)\n",
    "df_all['Pipeline Specs'] = df_all[['Pipeline Specs', 'Method']].agg(''.join, axis=1)"
   ]
  },
  {
   "cell_type": "code",
   "execution_count": null,
   "metadata": {},
   "outputs": [],
   "source": [
    "df_all['Pipeline Specs'] = df_all['Pipeline Specs'].astype(str)"
   ]
  },
  {
   "cell_type": "code",
   "execution_count": null,
   "metadata": {},
   "outputs": [],
   "source": [
    "df_all['Metric'] = pd.Categorical(df_all['Metric'], \n",
    "                             ordered=True,\n",
    "                             categories=[\"DER\", \"JER\", \"Coverage\", \n",
    "                                         \"Purity\"])"
   ]
  },
  {
   "cell_type": "markdown",
   "metadata": {},
   "source": [
    "# baseline vs exact"
   ]
  },
  {
   "cell_type": "code",
   "execution_count": null,
   "metadata": {},
   "outputs": [],
   "source": [
    "df_all_approaches = df_all[df_all['Pipeline Specs'].isin(['pyannote 3.1 ', \n",
    "                                             'NeMo Joint (ASR-based TS)', 'NeMo Clustering'])]\n",
    "\n",
    "df_all_approaches.loc[df_all_approaches[\"Pipeline Specs\"] == \"NeMo Joint (ASR-based TS)\", \"Pipeline Specs\"] = 'NeMo Joint'\n",
    "df_all_approaches"
   ]
  },
  {
   "cell_type": "code",
   "execution_count": null,
   "metadata": {},
   "outputs": [],
   "source": [
    "df_all_approaches = df_all_approaches[df_all_approaches['Approach'].isin(['Baseline', 'Exact'])]"
   ]
  },
  {
   "cell_type": "code",
   "execution_count": null,
   "metadata": {},
   "outputs": [],
   "source": [
    "average_df = df_all_approaches.groupby(by = ['Pipeline Specs', \n",
    "                                             'Approach', 'Metric']).agg(Value_mean = ('Value', 'mean'), Value_sd = ('Value', 'std')).apply(lambda x : round(x, 2))\n",
    "average_df"
   ]
  },
  {
   "cell_type": "code",
   "execution_count": null,
   "metadata": {},
   "outputs": [],
   "source": [
    "# NeMo Clustering\n",
    "#Baseline\n",
    "DER_mean = 35.33\n",
    "DER_std = 23.94\n",
    "JER_mean = 51.49\n",
    "JER_std = 28.80\n",
    "cov_mean = 93.78\n",
    "cov_std = 8.73\n",
    "pur_mean = 80.06\n",
    "pur_std = 19.09\n",
    "diarization_score_mean_clust = DER_mean * 0.25 +  JER_mean * 0.25 +  cov_mean * 0.25 +  pur_mean * 0.25\n",
    "diarization_score_std_clust = DER_std * 0.25 +  JER_std * 0.25 +  cov_std * 0.25 +  pur_std * 0.25\n",
    "print(\"Baseline\")\n",
    "print(diarization_score_mean_clust, \"+-\", diarization_score_std_clust)\n",
    "\n",
    "\n",
    "#Exact\n",
    "DER_mean = 37.34\n",
    "DER_std = 22.51\n",
    "JER_mean = 45.14\n",
    "JER_std = 24.93\n",
    "cov_mean = 79.83\n",
    "cov_std = 16.31\n",
    "pur_mean = 84.96\n",
    "pur_std = 13.83\n",
    "diarization_score_mean_joint = DER_mean * 0.25 +  JER_mean * 0.25 +  cov_mean * 0.25 +  pur_mean * 0.25\n",
    "diarization_score_std_joint = DER_std * 0.25 +  JER_std * 0.25 +  cov_std * 0.25 +  pur_std * 0.25\n",
    "print(\"\\nExact\")\n",
    "print(diarization_score_mean_joint, \"+-\", diarization_score_std_joint)\n"
   ]
  },
  {
   "cell_type": "code",
   "execution_count": null,
   "metadata": {},
   "outputs": [],
   "source": [
    "# NeMo Joint\n",
    "#Baseline\n",
    "DER_mean = 37.82\n",
    "DER_std = 24.79\n",
    "JER_mean = 51.64\n",
    "JER_std = 27.91\n",
    "cov_mean = 94.27\n",
    "cov_std = 8.45\n",
    "pur_mean = 83.84\n",
    "pur_std = 16.96\n",
    "diarization_score_mean_sd = DER_mean * 0.25 +  JER_mean * 0.25 +  cov_mean * 0.25 +  pur_mean * 0.25\n",
    "diarization_score_std_sd = DER_std * 0.25 +  JER_std * 0.25 +  cov_std * 0.25 +  pur_std * 0.25\n",
    "print(\"Baseline\")\n",
    "print(diarization_score_mean_sd, \"+-\", diarization_score_std_sd)\n",
    "\n",
    "\n",
    "#Exact\n",
    "DER_mean = 40.47\n",
    "DER_std = 24.38\n",
    "JER_mean = 47.62\n",
    "JER_std = 25.87\n",
    "cov_mean = 81.32\n",
    "cov_std = 16.45\n",
    "pur_mean = 88.31\n",
    "pur_std = 11.50\n",
    "diarization_score_mean_pya = DER_mean * 0.25 +  JER_mean * 0.25 +  cov_mean * 0.25 +  pur_mean * 0.25\n",
    "diarization_score_std_pya = DER_std * 0.25 +  JER_std * 0.25 +  cov_std * 0.25 +  pur_std * 0.25\n",
    "print(\"\\nExact\")\n",
    "print(diarization_score_mean_pya, \"+-\", diarization_score_std_pya)\n"
   ]
  },
  {
   "cell_type": "code",
   "execution_count": null,
   "metadata": {},
   "outputs": [],
   "source": [
    "# pyannote 3.1\n",
    "#Baseline\n",
    "DER_mean = 29.28\n",
    "DER_std = 28.52 \n",
    "JER_mean = 37.69\n",
    "JER_std = 24.39\n",
    "cov_mean = 82.07\n",
    "cov_std = 16.11\n",
    "pur_mean = 79.64\n",
    "pur_std = 18.65\n",
    "diarization_score_mean_pyAA = DER_mean * 0.25 +  JER_mean * 0.25 +  cov_mean * 0.25 +  pur_mean * 0.25\n",
    "diarization_score_std_pyAA = DER_std * 0.25 +  JER_std * 0.25 +  cov_std * 0.25 +  pur_std * 0.25\n",
    "print(\"\\Baseline\")\n",
    "print(diarization_score_mean_pyAA, \"+-\", diarization_score_std_pyAA)\n",
    "\n",
    "\n",
    "#Exact\n",
    "DER_mean = 28.80\n",
    "DER_std = 26.91\n",
    "JER_mean = 38.11\n",
    "JER_std = 23.67\n",
    "cov_mean = 81.84\n",
    "cov_std = 15.80\n",
    "pur_mean = 79.25\n",
    "pur_std = 18.44\n",
    "diarization_score_mean_w = DER_mean * 0.25 +  JER_mean * 0.25 +  cov_mean * 0.25 +  pur_mean * 0.25\n",
    "diarization_score_std_w = DER_std * 0.25 +  JER_std * 0.25 +  cov_std * 0.25 +  pur_std * 0.25\n",
    "print(\"\\nExact\")\n",
    "print(diarization_score_mean_w, \"+-\", diarization_score_std_w)\n",
    "\n",
    "#Global\n",
    "DER_mean = 28.75\n",
    "DER_std = 27.10\n",
    "JER_mean = 38.62\n",
    "JER_std = 23.59 \n",
    "cov_mean = 81.77\n",
    "cov_std = 16.01\n",
    "pur_mean = 79.77\n",
    "pur_std = 18.52\n",
    "diarization_score_mean_w = DER_mean * 0.25 +  JER_mean * 0.25 +  cov_mean * 0.25 +  pur_mean * 0.25\n",
    "diarization_score_std_w = DER_std * 0.25 +  JER_std * 0.25 +  cov_std * 0.25 +  pur_std * 0.25\n",
    "print(\"\\nGlobal\")\n",
    "print(diarization_score_mean_w, \"+-\", diarization_score_std_w)"
   ]
  },
  {
   "cell_type": "code",
   "execution_count": null,
   "metadata": {},
   "outputs": [],
   "source": []
  }
 ],
 "metadata": {
  "kernelspec": {
   "display_name": "Python 3",
   "language": "python",
   "name": "python3"
  },
  "language_info": {
   "codemirror_mode": {
    "name": "ipython",
    "version": 3
   },
   "file_extension": ".py",
   "mimetype": "text/x-python",
   "name": "python",
   "nbconvert_exporter": "python",
   "pygments_lexer": "ipython3",
   "version": "3.10.11"
  }
 },
 "nbformat": 4,
 "nbformat_minor": 2
}
