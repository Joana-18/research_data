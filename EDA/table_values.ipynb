{
 "cells": [
  {
   "cell_type": "code",
   "execution_count": null,
   "metadata": {},
   "outputs": [],
   "source": [
    "import plotnine as p9\n",
    "import pandas as pd"
   ]
  },
  {
   "cell_type": "markdown",
   "metadata": {},
   "source": [
    "# Speaker Count"
   ]
  },
  {
   "cell_type": "code",
   "execution_count": null,
   "metadata": {},
   "outputs": [],
   "source": [
    "df_TAM = pd.read_csv(r'\\research_data\\EDA\\This American Life\\TAM_Statistics.csv')\n",
    "df_RAMC = pd.read_csv(r'\\research_data\\EDA\\RAMC\\RAMC_Statistics.csv')\n",
    "df_AliFar = pd.read_csv(r'\\research_data\\EDA\\AliMeeting\\Ali_Far_Statistics.csv')\n",
    "df_AliNear = pd.read_csv(r'\\research_data\\EDA\\AliMeeting\\Ali_Near_Statistics.csv')\n",
    "df_AMI = pd.read_csv(r'\\research_data\\EDA\\AMI\\AMI_Statistics.csv')\n",
    "df_AI = pd.read_csv(r'\\research_data\\EDA\\AISHELL-4\\AISHELL_Statistics.csv')\n",
    "df_Earnings = pd.read_csv(r'\\research_data\\EDA\\Earnings-21\\Earnings_Statistics.csv')\n",
    "df_MSD = pd.read_csv(r'\\research_data\\EDA\\MSDWILD\\MSD_Statistics_new.csv')\n",
    "df_VOX = pd.read_csv(r'\\research_data\\EDA\\VoxConverse\\Vox_Statistics.csv')"
   ]
  },
  {
   "cell_type": "code",
   "execution_count": null,
   "metadata": {},
   "outputs": [],
   "source": [
    "h_files = ['00856', '02218', '02901', '00143', '00501', '02025', '02677', '01392', '00801',\n",
    "  '03028', '00734', '01240', '00241', '01196', '01999', '02370', '01539', '02252',\n",
    "    '02837', '00804', '02020', '02891', '00084', '02802', '00995', '00645', '02388',\n",
    "      '00737', '02061', '02003', '00631', '02377', '02753', '00947', '03129', '02985',\n",
    "        '00785', '00144', '02641', '01229', '00198', '02995', '01009', '00378', '00239',\n",
    "          '01755', '00018', '02509', '01447', '02153', '02095', '01976', '01820', '01694',\n",
    "            '02868', '00927', '01458', '02737', '00678', '02209', '02904', '00616', '01954',\n",
    "              '03047', '00906', '02404', '02144', '00978', '01461', '00714', '01012', '00248',\n",
    "                '01616', '02646', '01955', '03020', '01668', '00990', '02399', '00417', '00820',\n",
    "                  '02790', '02341', '01793', '02584', '01649', '00471', '00913', '00877', '02644',\n",
    "                    '00025', '01768', '01997', '02709', '01935', '00769', '00170', '00430', '01219',\n",
    "                      '00919', '02260', '02289', '01067', '02162', '02752', '02913', '00663', '00841',\n",
    "                        '01580', '02311', '01151', '00600', '00939', '02441', '02258', '00443', '01112',\n",
    "                          '00935', '01744', '01039', '01554', '00429', '02951']\n"
   ]
  },
  {
   "cell_type": "code",
   "execution_count": null,
   "metadata": {},
   "outputs": [],
   "source": [
    "df_MSD['File'] = df_MSD['File'].astype(str)\n",
    "df_MSD['File'] = df_MSD['File'].str.zfill(5)\n",
    "df_MSD"
   ]
  },
  {
   "cell_type": "code",
   "execution_count": null,
   "metadata": {},
   "outputs": [],
   "source": [
    "df_MSD = df_MSD[(~df_MSD['File'].isin(h_files)) & (df_MSD['Dataset'] == 'MSDWild Few')]\n",
    "len(df_MSD)"
   ]
  },
  {
   "cell_type": "code",
   "execution_count": null,
   "metadata": {},
   "outputs": [],
   "source": [
    "df_base = pd.concat([df_TAM, df_AliFar, df_RAMC, df_AliNear, df_AMI, df_AI, df_Earnings, df_MSD, df_VOX])\n",
    "df_base"
   ]
  },
  {
   "cell_type": "code",
   "execution_count": null,
   "metadata": {},
   "outputs": [],
   "source": [
    "df_base['Speakers'] = df_base['Speakers'].astype(int)"
   ]
  },
  {
   "cell_type": "code",
   "execution_count": null,
   "metadata": {},
   "outputs": [],
   "source": [
    "count_df = df_base.groupby(by = ['Dataset', 'Speakers']).size().reset_index(name='Count')\n",
    "count_df"
   ]
  },
  {
   "cell_type": "code",
   "execution_count": null,
   "metadata": {},
   "outputs": [],
   "source": [
    "speaker_stats = df_base[['Dataset', 'Speakers']].groupby(by = ['Dataset']).agg(median = ('Speakers', 'median')).apply(lambda x : round(x, 1))\n",
    "speaker_stats"
   ]
  },
  {
   "cell_type": "code",
   "execution_count": null,
   "metadata": {},
   "outputs": [],
   "source": [
    "counts_min_max = count_df[['Dataset', 'Speakers']].groupby(by = ['Dataset']).agg(['min', 'max'])\n",
    "counts_min_max"
   ]
  },
  {
   "cell_type": "markdown",
   "metadata": {},
   "source": [
    "# SNR"
   ]
  },
  {
   "cell_type": "code",
   "execution_count": null,
   "metadata": {},
   "outputs": [],
   "source": [
    "df_snr = df_base.groupby(by = ['Dataset', 'SNR']).size().reset_index(name='Count')\n",
    "df_snr"
   ]
  },
  {
   "cell_type": "code",
   "execution_count": null,
   "metadata": {},
   "outputs": [],
   "source": [
    "snr_stats = df_base[['Dataset', 'SNR']].groupby(by = ['Dataset']).agg(mean = ('SNR', 'mean'), sd = ('SNR', 'std')).apply(lambda x : round(x, 1))\n",
    "snr_stats"
   ]
  },
  {
   "cell_type": "code",
   "execution_count": null,
   "metadata": {},
   "outputs": [],
   "source": [
    "snr_min_max = df_snr[['Dataset', 'SNR']].groupby(by = ['Dataset']).agg(['min', 'max'])\n",
    "snr_min_max"
   ]
  },
  {
   "cell_type": "markdown",
   "metadata": {},
   "source": [
    "# Overlapping Speech"
   ]
  },
  {
   "cell_type": "code",
   "execution_count": null,
   "metadata": {},
   "outputs": [],
   "source": [
    "df_os = df_base.groupby(by = ['Dataset', 'Overlapping Speech']).size().reset_index(name='Count')\n",
    "df_os"
   ]
  },
  {
   "cell_type": "code",
   "execution_count": null,
   "metadata": {},
   "outputs": [],
   "source": [
    "os_stats = df_os.groupby(by = ['Dataset']).agg(mean = ('Overlapping Speech', 'mean'), sd = ('Overlapping Speech', 'std')).apply(lambda x : round(x, 1))\n",
    "os_stats"
   ]
  },
  {
   "cell_type": "code",
   "execution_count": null,
   "metadata": {},
   "outputs": [],
   "source": [
    "os_min_max = df_os[['Dataset', 'Overlapping Speech']].groupby(by = ['Dataset']).agg(['min', 'max'])\n",
    "os_min_max"
   ]
  },
  {
   "cell_type": "markdown",
   "metadata": {},
   "source": [
    "# Duration"
   ]
  },
  {
   "cell_type": "code",
   "execution_count": null,
   "metadata": {},
   "outputs": [],
   "source": [
    "print(df_base[df_base['Dataset'] == 'VoxConverse'][['Dataset', 'File', 'Duration']].to_string())"
   ]
  },
  {
   "cell_type": "code",
   "execution_count": null,
   "metadata": {},
   "outputs": [],
   "source": [
    "df_base[(df_base['Dataset'] == 'Ali Far') | (df_base['Dataset'] == 'Ali Near')]['Duration'].sum()/ 60"
   ]
  },
  {
   "cell_type": "code",
   "execution_count": null,
   "metadata": {},
   "outputs": [],
   "source": [
    "df_base[(df_base['Dataset'] == 'AISHELL-4') ]['Duration'].sum() / 60"
   ]
  },
  {
   "cell_type": "code",
   "execution_count": null,
   "metadata": {},
   "outputs": [],
   "source": [
    "df_dur = df_base.groupby(by = ['Dataset', 'Duration']).size().reset_index(name='Count')\n",
    "df_dur"
   ]
  },
  {
   "cell_type": "code",
   "execution_count": null,
   "metadata": {},
   "outputs": [],
   "source": [
    "mean_dur = df_base[['Dataset', 'Duration']].groupby(by = ['Dataset']).agg(Duration_mean = ('Duration', 'mean'), Duration_sd = ('Duration', 'std')).apply(lambda x : round(x, 1))\n",
    "mean_dur"
   ]
  },
  {
   "cell_type": "code",
   "execution_count": null,
   "metadata": {},
   "outputs": [],
   "source": [
    "df_base[['Dataset', 'Duration']].groupby(by = ['Dataset']).min().apply(lambda x : round(x, 1))\n"
   ]
  },
  {
   "cell_type": "code",
   "execution_count": null,
   "metadata": {},
   "outputs": [],
   "source": [
    "df_base[['Dataset', 'Duration']].groupby(by = ['Dataset']).max().apply(lambda x : round(x, 1))\n"
   ]
  },
  {
   "cell_type": "code",
   "execution_count": null,
   "metadata": {},
   "outputs": [],
   "source": [
    "df_base[['Dataset']].groupby(by = ['Dataset']).value_counts()\n"
   ]
  },
  {
   "cell_type": "code",
   "execution_count": null,
   "metadata": {},
   "outputs": [],
   "source": [
    "df_dur = df_base.groupby(by = ['Dataset', 'Duration']).size().reset_index(name='Count')\n",
    "df_dur"
   ]
  },
  {
   "cell_type": "code",
   "execution_count": null,
   "metadata": {},
   "outputs": [],
   "source": [
    "df_dur['Duration'] = df_dur['Duration'].round(3)\n",
    "df_dur"
   ]
  },
  {
   "cell_type": "markdown",
   "metadata": {},
   "source": []
  },
  {
   "cell_type": "code",
   "execution_count": null,
   "metadata": {},
   "outputs": [],
   "source": []
  }
 ],
 "metadata": {
  "kernelspec": {
   "display_name": "Python 3",
   "language": "python",
   "name": "python3"
  },
  "language_info": {
   "codemirror_mode": {
    "name": "ipython",
    "version": 3
   },
   "file_extension": ".py",
   "mimetype": "text/x-python",
   "name": "python",
   "nbconvert_exporter": "python",
   "pygments_lexer": "ipython3",
   "version": "3.10.11"
  }
 },
 "nbformat": 4,
 "nbformat_minor": 2
}
