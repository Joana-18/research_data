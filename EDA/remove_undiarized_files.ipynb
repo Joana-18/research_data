{
 "cells": [
  {
   "cell_type": "code",
   "execution_count": null,
   "metadata": {},
   "outputs": [],
   "source": [
    "import pandas as pd"
   ]
  },
  {
   "cell_type": "code",
   "execution_count": null,
   "metadata": {},
   "outputs": [],
   "source": [
    "# Data sets' statistics\n",
    "AISHELL = pd.read_csv('\\\\research_data\\\\EDA\\\\AISHELL-4\\\\AISHELL_Statistics.csv')\n",
    "ALI_FAR = pd.read_csv('\\\\research_data\\\\EDA\\\\AliMeeting\\\\Ali_Far_Statistics.csv')\n",
    "ALI_NEAR = pd.read_csv('\\\\research_data\\\\EDA\\\\AliMeeting\\\\Ali_Near_Statistics.csv')\n",
    "AMI = pd.read_csv('\\\\research_data\\\\EDA\\\\AMI\\\\AMI_Statistics.csv')\n",
    "EARNINGS = pd.read_csv('\\\\research_data\\\\EDA\\\\Earnings-21\\\\Earnings_Statistics.csv')\n",
    "MSD = pd.read_csv('\\\\research_data\\\\EDA\\\\MSDWILD\\\\MSD_Statistics.csv')\n",
    "RAMC = pd.read_csv('\\\\research_data\\\\EDA\\\\RAMC\\\\RAMC_Statistics.csv')\n",
    "TAL = pd.read_csv('\\\\research_data\\\\EDA\\\\This American Life\\\\TAM_Statistics.csv')\n",
    "VOXCONVERSE = pd.read_csv('\\\\research_data\\\\EDA\\\\VoxConverse\\\\Vox_Statistics.csv')"
   ]
  },
  {
   "cell_type": "code",
   "execution_count": null,
   "metadata": {},
   "outputs": [],
   "source": [
    "# Files to keep\n",
    "UNDIARIZED_FILES = ['00856', '02218', '02901', '00143', '00501', '02025', '02677', '01392', '00801',\n",
    "  '03028', '00734', '01240', '00241', '01196', '01999', '02370', '01539', '02252',\n",
    "    '02837', '00804', '02020', '02891', '00084', '02802', '00995', '00645', '02388',\n",
    "      '00737', '02061', '02003', '00631', '02377', '02753', '00947', '03129', '02985',\n",
    "        '00785', '00144', '02641', '01229', '00198', '02995', '01009', '00378', '00239',\n",
    "          '01755', '00018', '02509', '01447', '02153', '02095', '01976', '01820', '01694',\n",
    "            '02868', '00927', '01458', '02737', '00678', '02209', '02904', '00616', '01954',\n",
    "              '03047', '00906', '02404', '02144', '00978', '01461', '00714', '01012', '00248',\n",
    "                '01616', '02646', '01955', '03020', '01668', '00990', '02399', '00417', '00820',\n",
    "                  '02790', '02341', '01793', '02584', '01649', '00471', '00913', '00877', '02644',\n",
    "                    '00025', '01768', '01997', '02709', '01935', '00769', '00170', '00430', '01219',\n",
    "                      '00919', '02260', '02289', '01067', '02162', '02752', '02913', '00663', '00841',\n",
    "                        '01580', '02311', '01151', '00600', '00939', '02441', '02258', '00443', '01112',\n",
    "                          '00935', '01744', '01039', '01554', '00429', '02951']"
   ]
  },
  {
   "cell_type": "code",
   "execution_count": null,
   "metadata": {},
   "outputs": [],
   "source": [
    "print(len(AISHELL))\n",
    "new_ai = AISHELL\n",
    "rows2keep = []\n",
    "for ind in AISHELL.index:\n",
    "    if AISHELL['File'][ind] not in UNDIARIZED_FILES:\n",
    "        rows2keep.append(ind)\n",
    "new_ai = new_ai.iloc[rows2keep]\n",
    "new_ai = new_ai.reset_index(drop=True)\n",
    "print(len(new_ai))"
   ]
  },
  {
   "cell_type": "code",
   "execution_count": null,
   "metadata": {},
   "outputs": [],
   "source": [
    "print(len(ALI_FAR))\n",
    "new_ali_far = ALI_FAR\n",
    "rows2keep = []\n",
    "for ind in ALI_FAR.index:\n",
    "    if ALI_FAR['File'][ind] not in UNDIARIZED_FILES:\n",
    "        rows2keep.append(ind)\n",
    "new_ali_far = new_ali_far.iloc[rows2keep]\n",
    "new_ali_far = new_ali_far.reset_index(drop=True)\n",
    "print(len(new_ali_far))"
   ]
  },
  {
   "cell_type": "code",
   "execution_count": null,
   "metadata": {},
   "outputs": [],
   "source": [
    "print(len(ALI_NEAR))\n",
    "new_ali_near = ALI_NEAR\n",
    "rows2keep = []\n",
    "for ind in ALI_NEAR.index:\n",
    "    if ALI_NEAR['File'][ind] not in UNDIARIZED_FILES:\n",
    "        rows2keep.append(ind)\n",
    "new_ali_near = new_ali_near.iloc[rows2keep]\n",
    "new_ali_near = new_ali_near.reset_index(drop=True)\n",
    "print(len(new_ali_near))"
   ]
  },
  {
   "cell_type": "code",
   "execution_count": null,
   "metadata": {},
   "outputs": [],
   "source": [
    "print(len(AMI))\n",
    "new_ami = AMI\n",
    "rows2keep = []\n",
    "for ind in AMI.index:\n",
    "    if AMI['File'][ind] not in UNDIARIZED_FILES:\n",
    "        rows2keep.append(ind)\n",
    "new_ami = new_ami.iloc[rows2keep]\n",
    "new_ami = new_ami.reset_index(drop=True)\n",
    "print(len(new_ami))"
   ]
  },
  {
   "cell_type": "code",
   "execution_count": null,
   "metadata": {},
   "outputs": [],
   "source": [
    "print(len(EARNINGS))\n",
    "EARNINGS['File'] = EARNINGS['File'].astype(str)\n",
    "new_earn = EARNINGS\n",
    "rows2keep = []\n",
    "for ind in EARNINGS.index:\n",
    "    if EARNINGS['File'][ind] not in UNDIARIZED_FILES:\n",
    "        rows2keep.append(ind)\n",
    "new_earn = new_earn.iloc[rows2keep]\n",
    "new_earn = new_earn.reset_index(drop=True)\n",
    "print(len(new_earn))"
   ]
  },
  {
   "cell_type": "code",
   "execution_count": null,
   "metadata": {},
   "outputs": [],
   "source": [
    "MSD[(MSD['Dataset'] == 'MSD Few')]"
   ]
  },
  {
   "cell_type": "code",
   "execution_count": null,
   "metadata": {},
   "outputs": [],
   "source": [
    "MSD[(MSD['Dataset'] == 'MSD Many')]"
   ]
  },
  {
   "cell_type": "code",
   "execution_count": null,
   "metadata": {},
   "outputs": [],
   "source": [
    "print(len(MSD))\n",
    "MSD['File'] = MSD['File'].astype(str)\n",
    "MSD['File'] = MSD['File'].str.zfill(5)\n",
    "new_msd = MSD\n",
    "rows2keep = []\n",
    "for ind in MSD.index:\n",
    "    if MSD['File'][ind] not in UNDIARIZED_FILES:\n",
    "        rows2keep.append(ind)\n",
    "new_msd = new_msd.iloc[rows2keep]\n",
    "new_msd = new_msd.reset_index(drop=True)\n",
    "new_msd\n",
    "print(len(new_msd))"
   ]
  },
  {
   "cell_type": "code",
   "execution_count": null,
   "metadata": {},
   "outputs": [],
   "source": [
    "print(len(RAMC))\n",
    "new_ramc = RAMC\n",
    "rows2keep = []\n",
    "for ind in RAMC.index:\n",
    "    if RAMC['File'][ind] not in UNDIARIZED_FILES:\n",
    "        rows2keep.append(ind)\n",
    "new_ramc = new_ramc.iloc[rows2keep]\n",
    "new_ramc = new_ramc.reset_index(drop=True)\n",
    "print(len(new_ramc))"
   ]
  },
  {
   "cell_type": "code",
   "execution_count": null,
   "metadata": {},
   "outputs": [],
   "source": [
    "print(len(TAL))\n",
    "TAL['File'] = TAL['File'].astype(str)\n",
    "new_tal = TAL\n",
    "rows2keep = []\n",
    "for ind in TAL.index:\n",
    "    if TAL['File'][ind] not in UNDIARIZED_FILES:\n",
    "        rows2keep.append(ind)\n",
    "new_tal = new_tal.iloc[rows2keep]\n",
    "new_tal = new_tal.reset_index(drop=True)\n",
    "print(len(new_tal))"
   ]
  },
  {
   "cell_type": "code",
   "execution_count": null,
   "metadata": {},
   "outputs": [],
   "source": [
    "print(len(VOXCONVERSE))\n",
    "new_vox = VOXCONVERSE\n",
    "rows2keep = []\n",
    "for ind in VOXCONVERSE.index:\n",
    "    if VOXCONVERSE['File'][ind] not in UNDIARIZED_FILES:\n",
    "        rows2keep.append(ind)\n",
    "new_vox = new_vox.iloc[rows2keep]\n",
    "new_vox = new_vox.reset_index(drop=True)\n",
    "print(len(new_vox))"
   ]
  },
  {
   "cell_type": "code",
   "execution_count": null,
   "metadata": {},
   "outputs": [],
   "source": [
    "new_msd_few = new_msd[(new_msd['Dataset'] == 'MSD Few')]\n",
    "new_msd_few"
   ]
  },
  {
   "cell_type": "code",
   "execution_count": null,
   "metadata": {},
   "outputs": [],
   "source": [
    "new_msd_many = new_msd[(new_msd['Dataset'] == 'MSD Many')]\n",
    "new_msd_many"
   ]
  },
  {
   "cell_type": "markdown",
   "metadata": {},
   "source": [
    "# Save to CSV"
   ]
  },
  {
   "cell_type": "code",
   "execution_count": null,
   "metadata": {},
   "outputs": [],
   "source": [
    "# new_ami.to_csv('\\\\research_data\\\\edr\\\\data\\\\AMI_Statistics.csv', index=False)\n",
    "# new_vox.to_csv('\\\\research_data\\\\edr\\\\data\\\\VOX_Statistics.csv', index=False)\n",
    "new_msd_few.to_csv('\\\\research_data\\\\edr\\\\data\\\\MSD_Few_Statistics.csv', index=False)\n",
    "new_msd_many.to_csv('\\\\research_data\\\\edr\\\\data\\\\MSD_Many_Statistics.csv', index=False)\n",
    "\n",
    "# new_ai.to_csv('\\\\research_data\\\\edr\\\\data\\\\AISHELL_Statistics.csv', index=False)\n",
    "# new_ali_far.to_csv('\\\\research_data\\\\edr\\\\data\\\\Ali_Far_Statistics.csv', index=False)\n",
    "# new_ali_near.to_csv('\\\\research_data\\\\edr\\\\data\\\\Ali_Near_Statistics.csv', index=False)\n",
    "# new_earn.to_csv('\\\\research_data\\\\edr\\\\data\\\\Earnings_Statistics.csv', index=False)\n",
    "# new_ramc.to_csv('\\\\research_data\\\\edr\\\\data\\\\RAMC_Statistics.csv', index=False)\n",
    "# new_tal.to_csv('\\\\research_data\\\\edr\\\\data\\\\TAL_Statistics.csv', index=False)\n"
   ]
  },
  {
   "cell_type": "code",
   "execution_count": null,
   "metadata": {},
   "outputs": [],
   "source": []
  }
 ],
 "metadata": {
  "kernelspec": {
   "display_name": "Python 3",
   "language": "python",
   "name": "python3"
  },
  "language_info": {
   "codemirror_mode": {
    "name": "ipython",
    "version": 3
   },
   "file_extension": ".py",
   "mimetype": "text/x-python",
   "name": "python",
   "nbconvert_exporter": "python",
   "pygments_lexer": "ipython3",
   "version": "3.10.11"
  }
 },
 "nbformat": 4,
 "nbformat_minor": 2
}
