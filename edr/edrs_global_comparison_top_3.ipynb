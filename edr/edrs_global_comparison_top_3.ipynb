{
 "cells": [
  {
   "cell_type": "code",
   "execution_count": null,
   "metadata": {},
   "outputs": [],
   "source": [
    "import os\n",
    "import re\n",
    "import numpy as np\n",
    "import pandas as pd\n",
    "import plotnine as p9"
   ]
  },
  {
   "cell_type": "code",
   "execution_count": null,
   "metadata": {},
   "outputs": [],
   "source": [
    "APPROACH = 'Baseline'\n",
    "VERSION = 3.1"
   ]
  },
  {
   "cell_type": "code",
   "execution_count": null,
   "metadata": {},
   "outputs": [],
   "source": [
    "def get_df_per_method(error_rules, metric):\n",
    "  error_rules.columns = ['antecedent_support', 'p_value', 'kurtosis', 'skewness', \n",
    "                        'mean', 'mode', 'median', 'standard_deviation', 'values', \n",
    "                        'feature_conditions', 'Method']\n",
    "  error_rules['Metric'] = metric\n",
    "  def caren_distribution_as_vector(string : str) -> np.array:\n",
    "    x = np.array([[float(y[0])] * int(y[1]) \n",
    "                    for y in [x.split('/') \n",
    "                              for x in re.sub('\\s+\\}', '', \n",
    "                                              re.sub('[a-zA-Z]+\\=\\{\\s', '', \n",
    "                                                      string)).split(',')]])\n",
    "    return np.hstack(x)\n",
    "\n",
    "  error_rules['feature_conditions'] = error_rules['feature_conditions'].astype(str)\n",
    "  error_rules['feature_conditions'] = error_rules['feature_conditions'].str.split('\\s+&\\s+')\n",
    "  error_rules['values'] = error_rules['values'].apply(caren_distribution_as_vector)\n",
    "  error_rules['standard_deviation'] = round(error_rules['standard_deviation'], 3)\n",
    "  error_rules['mean'] = round(error_rules['mean'], 3)\n",
    "  error_rules['mode'] = round(error_rules['mode'], 3)\n",
    "  error_rules['median'] = round(error_rules['median'], 3)\n",
    "  error_rules['values'] = error_rules['values']\n",
    "  all_values = error_rules.iloc[error_rules.shape[0] - 1]['values']\n",
    "  whole_data_label = f'All data\\n({all_values.shape[0]} : 100%)'\n",
    "  \n",
    "\n",
    "  df = pd.DataFrame({\n",
    "    'feature_conditions' : [whole_data_label] * all_values.shape[0],\n",
    "    'values' : all_values,\n",
    "    'method' : error_rules.iloc[0]['Method'],\n",
    "    'metric' : error_rules.iloc[0]['Metric'],\n",
    "  })\n",
    "\n",
    "  if not os.path.exists(f'./output/{APPROACH}_{metric}_{VERSION}'):\n",
    "    os.makedirs(f'./output/{APPROACH}_{metric}_{VERSION}')\n",
    "\n",
    "\n",
    "  for i in range(error_rules.shape[0] - 1):\n",
    "    subgroup_values = error_rules.iloc[i]['values']\n",
    "    subgroup_feature_conditions = error_rules.iloc[i]['feature_conditions']\n",
    "    subgroup_feature_conditions_units = []\n",
    "    if type(subgroup_feature_conditions) is list:\n",
    "      for conditions in subgroup_feature_conditions:\n",
    "          if \"OS\" in conditions:\n",
    "              conditions += ' %'\n",
    "          elif \"SNR\" in conditions:\n",
    "              conditions += ' dB'\n",
    "          elif \"D\" in conditions:\n",
    "              conditions += ' min'\n",
    "          subgroup_feature_conditions_units.append(conditions)\n",
    "    else:\n",
    "        subgroup_feature_conditions_units.append(subgroup_feature_conditions)\n",
    "    subgroup_feature_conditions_units.sort()\n",
    "    subgroup_feature_conditions_units = ',\\n '.join(subgroup_feature_conditions_units) +\\\n",
    "        f'\\n({subgroup_values.shape[0]} instances : {np.round((subgroup_values.shape[0] / all_values.shape[0])*100, decimals = 3)}%)'\n",
    "\n",
    "    df = pd.concat([\n",
    "      df,\n",
    "      pd.DataFrame({\n",
    "        'feature_conditions' : [subgroup_feature_conditions_units] * subgroup_values.shape[0],\n",
    "        'values' : subgroup_values,\n",
    "        'method' : error_rules.iloc[0]['Method'],\n",
    "        'metric' : error_rules.iloc[0]['Metric'],\n",
    "      })\n",
    "    ])\n",
    "\n",
    "  # print(df)\n",
    "  return df, whole_data_label"
   ]
  },
  {
   "cell_type": "markdown",
   "metadata": {},
   "source": [
    "DER"
   ]
  },
  {
   "cell_type": "code",
   "execution_count": null,
   "metadata": {},
   "outputs": [],
   "source": [
    "file_py_der = f'research_data\\\\edr\\\\edrs\\\\{APPROACH}_DER_{VERSION}_pyannote.csv'\n",
    "error_rules_py_der = pd.read_csv(file_py_der,  sep = ';')\n",
    "error_rules_py_der['Method'] = 'pyannote 3.1'\n",
    "error_rules_py_der_2, label_py_der = get_df_per_method(error_rules_py_der, \"DER\")\n",
    "\n",
    "file_nemo_der_clust = f'research_data\\\\edr\\\\edrs\\\\{APPROACH}_DER_NeMo_Clustering.csv'\n",
    "error_rules_nemo_der_clust = pd.read_csv(file_nemo_der_clust,  sep = ';')\n",
    "error_rules_nemo_der_clust['Method'] = 'NeMo Clustering'\n",
    "error_rules_nemo_der_2_clust, label_nemo_der_clust = get_df_per_method(error_rules_nemo_der_clust, 'DER')\n",
    "\n",
    "file_nemo_der_joint = f'research_data\\\\edr\\\\edrs\\\\{APPROACH}_DER_NeMo_Joint.csv'\n",
    "error_rules_nemo_der_joint = pd.read_csv(file_nemo_der_joint,  sep = ';')\n",
    "error_rules_nemo_der_joint['Method'] = 'NeMo Joint'\n",
    "error_rules_nemo_der_2_joint, label_nemo_der_joint = get_df_per_method(error_rules_nemo_der_joint, 'DER')\n",
    "\n",
    "error_rules = pd.concat([error_rules_py_der_2, error_rules_nemo_der_2_clust, error_rules_nemo_der_2_joint])"
   ]
  },
  {
   "cell_type": "code",
   "execution_count": null,
   "metadata": {},
   "outputs": [],
   "source": [
    "\n",
    "labels = error_rules['feature_conditions'].unique()\n",
    "labels = labels[1:]\n",
    "labels.sort()\n",
    "labels = labels[::-1]\n",
    "labels = np.append(labels, label_nemo_der_joint)\n",
    "error_rules['feature_conditions'] = pd.Categorical(error_rules['feature_conditions'], labels)\n"
   ]
  },
  {
   "cell_type": "code",
   "execution_count": null,
   "metadata": {},
   "outputs": [],
   "source": [
    "error_rules['feature_conditions'].unique()"
   ]
  },
  {
   "cell_type": "code",
   "execution_count": null,
   "metadata": {},
   "outputs": [],
   "source": [
    "error_rules[(error_rules['method'] == 'pyannote 3.1') & (error_rules['feature_conditions'] == 'All data\\n(1015 : 100%)')]['values'].describe()"
   ]
  },
  {
   "cell_type": "code",
   "execution_count": null,
   "metadata": {},
   "outputs": [],
   "source": [
    "print(error_rules[(error_rules['method'] == 'NeMo Clustering')]['feature_conditions'].unique())"
   ]
  },
  {
   "cell_type": "code",
   "execution_count": null,
   "metadata": {},
   "outputs": [],
   "source": [
    "error_rules[(error_rules['method'] == 'NeMo Clustering') & (error_rules['feature_conditions'] == 'Spk=[1 - 2]\\n(389 instances : 38.325%)')]['values'].describe()"
   ]
  },
  {
   "cell_type": "code",
   "execution_count": null,
   "metadata": {},
   "outputs": [],
   "source": [
    "20.737000 - 20.508000"
   ]
  },
  {
   "cell_type": "code",
   "execution_count": null,
   "metadata": {},
   "outputs": [],
   "source": [
    "41.905000 -  34.430000"
   ]
  },
  {
   "cell_type": "code",
   "execution_count": null,
   "metadata": {},
   "outputs": [],
   "source": [
    "plot = p9.ggplot(error_rules,\n",
    "  p9.aes(x = 'feature_conditions', y = 'values', fill='method')\n",
    "  ) + \\\n",
    "  p9.theme_bw() + \\\n",
    "  p9.geom_boxplot(position = p9.position_dodge(-0.85), ) + \\\n",
    "  p9.scale_fill_manual(values=['#ef8a62', '#f7f7f7', '#67a9cf'])  +\\\n",
    "  p9.facet_wrap(facets = '~metric', ncol = 1) + \\\n",
    "  p9.xlab('Feature Conditions') + \\\n",
    "  p9.ylab('Value (%)') + \\\n",
    "  p9.coord_flip() + \\\n",
    "  p9.theme(\n",
    "    legend_position = 'top',\n",
    "    figure_size = (8, 14),\n",
    "    legend_title = p9.element_blank(),    \n",
    "    text = p9.element_text(size=17, weight='bold'),\n",
    "    legend_direction=\"vertical\",\n",
    "  )\n",
    "plot\n",
    "save_file = f'research_data\\\\edr\\\\output/{APPROACH}_all_{VERSION}/all_der_subgroups_rq3_paper_new.png'\n",
    "plot.save(filename = save_file, dpi = 300)"
   ]
  },
  {
   "cell_type": "markdown",
   "metadata": {},
   "source": [
    "JER"
   ]
  },
  {
   "cell_type": "code",
   "execution_count": null,
   "metadata": {},
   "outputs": [],
   "source": [
    "file_py_jer = f'research_data\\\\edr\\\\edrs\\\\{APPROACH}_JER_{VERSION}_pyannote.csv'\n",
    "error_rules_py_jer = pd.read_csv(file_py_jer,  sep = ';')\n",
    "error_rules_py_jer['Method'] = 'pyannote 3.1'\n",
    "error_rules_py_jer_2, label_py_jer = get_df_per_method(error_rules_py_jer, \"JER\")\n",
    "\n",
    "file_nemo_jer_clust = f'research_data\\\\edr\\\\edrs\\\\{APPROACH}_JER_nemo_Clustering.csv'\n",
    "error_rules_nemo_jer_clust = pd.read_csv(file_nemo_jer_clust,  sep = ';')\n",
    "error_rules_nemo_jer_clust['Method'] = 'NeMo Clustering'\n",
    "error_rules_nemo_jer_2_clust, label_nemo_jer_clust = get_df_per_method(error_rules_nemo_jer_clust, 'JER')\n",
    "\n",
    "file_nemo_jer_joint = f'research_data\\\\edr\\\\edrs\\\\{APPROACH}_JER_nemo_Joint.csv'\n",
    "error_rules_nemo_jer_joint = pd.read_csv(file_nemo_jer_joint,  sep = ';')\n",
    "error_rules_nemo_jer_joint['Method'] = 'NeMo Joint'\n",
    "error_rules_nemo_jer_2_joint, label_nemo_jer_joint = get_df_per_method(error_rules_nemo_jer_joint, 'JER')\n",
    "\n",
    "error_rules = pd.concat([error_rules_py_jer_2, error_rules_nemo_jer_2_clust, error_rules_nemo_jer_2_joint])"
   ]
  },
  {
   "cell_type": "code",
   "execution_count": null,
   "metadata": {},
   "outputs": [],
   "source": [
    "\n",
    "labels = error_rules['feature_conditions'].unique()\n",
    "labels = labels[1:]\n",
    "labels.sort()\n",
    "labels = labels[::-1]\n",
    "labels = np.append(labels, label_nemo_jer_joint)\n",
    "error_rules['feature_conditions'] = pd.Categorical(error_rules['feature_conditions'], labels)\n"
   ]
  },
  {
   "cell_type": "code",
   "execution_count": null,
   "metadata": {},
   "outputs": [],
   "source": [
    "error_rules"
   ]
  },
  {
   "cell_type": "code",
   "execution_count": null,
   "metadata": {},
   "outputs": [],
   "source": [
    "error_rules[error_rules['method'] == 'pyannote 3.1']['feature_conditions'].unique()"
   ]
  },
  {
   "cell_type": "code",
   "execution_count": null,
   "metadata": {},
   "outputs": [],
   "source": [
    "print('NeMo Joint - 3 spk')\n",
    "print(error_rules[(error_rules['method'] == 'NeMo Joint') & (error_rules['feature_conditions'] == 'Spk=(2 - 3]\\n(181 instances : 17.833%)')]['values'].median())\n",
    "print('NeMo Joint - 2 spk')\n",
    "print(error_rules[(error_rules['method'] == 'NeMo Joint') & (error_rules['feature_conditions'] == 'Spk=[1 - 2]\\n(389 instances : 38.325%)')]['values'].median())\n",
    "\n",
    "print('pyannote 3.1 - 3 spk')\n",
    "print(error_rules[(error_rules['method'] == 'pyannote 3.1') & (error_rules['feature_conditions'] == 'Spk=(2 - 3]\\n(181 instances : 17.833%)')]['values'].median())\n",
    "print('pyannote 3.1 - 2 spk')\n",
    "print(error_rules[(error_rules['method'] == 'pyannote 3.1') & (error_rules['feature_conditions'] == 'Spk=[1 - 2]\\n(389 instances : 38.325%)')]['values'].median())"
   ]
  },
  {
   "cell_type": "code",
   "execution_count": null,
   "metadata": {},
   "outputs": [],
   "source": [
    "plot = p9.ggplot(error_rules,\n",
    "  p9.aes(x = 'feature_conditions', y = 'values', fill='method')\n",
    "  ) + \\\n",
    "  p9.theme_bw() + \\\n",
    "  p9.geom_boxplot(position = p9.position_dodge(-0.85), ) + \\\n",
    "  p9.scale_fill_manual(values=['#ef8a62', '#f7f7f7', '#67a9cf'])  +\\\n",
    "  p9.facet_wrap(facets = '~metric', ncol = 1) + \\\n",
    "  p9.xlab('Feature Conditions') + \\\n",
    "  p9.ylab('Value (%)') + \\\n",
    "  p9.coord_flip() + \\\n",
    "  p9.theme(\n",
    "    legend_position = 'top',\n",
    "    figure_size = (8, 14),\n",
    "    legend_title = p9.element_blank(),    \n",
    "    text = p9.element_text(size=17, weight='bold'),\n",
    "    legend_direction=\"vertical\",\n",
    "  )\n",
    "plot\n",
    "save_file = f'research_data\\\\edr\\\\output/{APPROACH}_all_{VERSION}/all_jer_subgroups_rq3_paper_new.png'\n",
    "plot.save(filename = save_file, dpi = 300)"
   ]
  },
  {
   "cell_type": "code",
   "execution_count": null,
   "metadata": {},
   "outputs": [],
   "source": []
  }
 ],
 "metadata": {
  "kernelspec": {
   "display_name": "Python 3",
   "language": "python",
   "name": "python3"
  },
  "language_info": {
   "codemirror_mode": {
    "name": "ipython",
    "version": 3
   },
   "file_extension": ".py",
   "mimetype": "text/x-python",
   "name": "python",
   "nbconvert_exporter": "python",
   "pygments_lexer": "ipython3",
   "version": "3.10.11"
  }
 },
 "nbformat": 4,
 "nbformat_minor": 2
}
