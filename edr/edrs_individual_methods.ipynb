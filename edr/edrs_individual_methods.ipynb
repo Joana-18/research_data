{
 "cells": [
  {
   "cell_type": "code",
   "execution_count": null,
   "metadata": {},
   "outputs": [],
   "source": [
    "import os\n",
    "import re\n",
    "import numpy as np\n",
    "import pandas as pd\n",
    "import plotnine as p9"
   ]
  },
  {
   "cell_type": "code",
   "execution_count": null,
   "metadata": {},
   "outputs": [],
   "source": [
    "APPROACH = 'Baseline'\n",
    "VERSION = 3.1"
   ]
  },
  {
   "cell_type": "code",
   "execution_count": null,
   "metadata": {},
   "outputs": [],
   "source": [
    "def get_df_per_method(error_rules, metric):\n",
    "  error_rules.columns = ['antecedent_support', 'p_value', 'kurtosis', 'skewness', \n",
    "                        'mean', 'mode', 'median', 'standard_deviation', 'values', \n",
    "                        'feature_conditions', 'Method']\n",
    "  error_rules['Metric'] = metric\n",
    "  def caren_distribution_as_vector(string : str) -> np.array:\n",
    "    x = np.array([[float(y[0])] * int(y[1]) \n",
    "                    for y in [x.split('/') \n",
    "                              for x in re.sub('\\s+\\}', '', \n",
    "                                              re.sub('[a-zA-Z]+\\=\\{\\s', '', \n",
    "                                                      string)).split(',')]])\n",
    "    return np.hstack(x)\n",
    "\n",
    "  error_rules['feature_conditions'] = error_rules['feature_conditions'].astype(str)\n",
    "  error_rules['feature_conditions'] = error_rules['feature_conditions'].str.split('\\s+&\\s+')\n",
    "  error_rules['values'] = error_rules['values'].apply(caren_distribution_as_vector)\n",
    "  error_rules['standard_deviation'] = round(error_rules['standard_deviation'], 3)\n",
    "  error_rules['mean'] = round(error_rules['mean'], 3)\n",
    "  error_rules['mode'] = round(error_rules['mode'], 3)\n",
    "  error_rules['median'] = round(error_rules['median'], 3)\n",
    "  error_rules['values'] = error_rules['values']\n",
    "  all_values = error_rules.iloc[error_rules.shape[0] - 1]['values']\n",
    "  whole_data_label = f'All data\\n({all_values.shape[0]} : 100%)'\n",
    "  \n",
    "\n",
    "  df = pd.DataFrame({\n",
    "    'feature_conditions' : [whole_data_label] * all_values.shape[0],\n",
    "    'values' : all_values,\n",
    "    'method' : error_rules.iloc[0]['Method'],\n",
    "    'metric' : error_rules.iloc[0]['Metric'],\n",
    "  })\n",
    "\n",
    "  if not os.path.exists(f'./output/{APPROACH}_{metric}_{VERSION}'):\n",
    "    os.makedirs(f'./output/{APPROACH}_{metric}_{VERSION}')\n",
    "\n",
    "\n",
    "  for i in range(error_rules.shape[0] - 1):\n",
    "    subgroup_values = error_rules.iloc[i]['values']\n",
    "    subgroup_feature_conditions = error_rules.iloc[i]['feature_conditions']\n",
    "    subgroup_feature_conditions_units = []\n",
    "    if type(subgroup_feature_conditions) is list:\n",
    "      for conditions in subgroup_feature_conditions:\n",
    "          if \"OS\" in conditions:\n",
    "              conditions += ' %'\n",
    "          elif \"SNR\" in conditions:\n",
    "              conditions += ' dB'\n",
    "          elif \"D\" in conditions:\n",
    "              conditions += ' min'\n",
    "          subgroup_feature_conditions_units.append(conditions)\n",
    "    else:\n",
    "        subgroup_feature_conditions_units.append(subgroup_feature_conditions)\n",
    "    subgroup_feature_conditions_units.sort()\n",
    "    subgroup_feature_conditions_units = ',\\n '.join(subgroup_feature_conditions_units) +\\\n",
    "        f'\\n({subgroup_values.shape[0]} instances : {np.round((subgroup_values.shape[0] / all_values.shape[0])*100, decimals = 3)}%)'\n",
    "\n",
    "    df = pd.concat([\n",
    "      df,\n",
    "      pd.DataFrame({\n",
    "        'feature_conditions' : [subgroup_feature_conditions_units] * subgroup_values.shape[0],\n",
    "        'values' : subgroup_values,\n",
    "        'method' : error_rules.iloc[0]['Method'],\n",
    "        'metric' : error_rules.iloc[0]['Metric'],\n",
    "      })\n",
    "    ])\n",
    "\n",
    "  # print(df)\n",
    "  return df, whole_data_label"
   ]
  },
  {
   "cell_type": "markdown",
   "metadata": {},
   "source": [
    "pyaudio"
   ]
  },
  {
   "cell_type": "code",
   "execution_count": null,
   "metadata": {},
   "outputs": [],
   "source": [
    "file_pyaud_der = f'\\\\research_data\\\\edrs\\\\{APPROACH}_DER_pyaudio.csv'\n",
    "error_rules_pyaud_der = pd.read_csv(file_pyaud_der,  sep = ';')\n",
    "error_rules_pyaud_der['Method'] = ''"
   ]
  },
  {
   "cell_type": "code",
   "execution_count": null,
   "metadata": {},
   "outputs": [],
   "source": [
    "error_rules_pyaud_der_2, label_pyaud_der = get_df_per_method(error_rules_pyaud_der, 'DER')\n",
    "error_rules_der = error_rules_pyaud_der_2\n",
    "\n",
    "labels_der = error_rules_der['feature_conditions'].unique()\n",
    "labels_der = labels_der[1:]\n",
    "labels_der.sort()\n",
    "labels_der = labels_der[::-1]\n",
    "labels_der = np.append(labels_der, label_pyaud_der)\n",
    "error_rules_der['feature_conditions'] = pd.Categorical(error_rules_der['feature_conditions'], labels_der)"
   ]
  },
  {
   "cell_type": "code",
   "execution_count": null,
   "metadata": {},
   "outputs": [],
   "source": [
    "error_rules = error_rules_der"
   ]
  },
  {
   "cell_type": "code",
   "execution_count": null,
   "metadata": {},
   "outputs": [],
   "source": [
    "error_rules_der['Colour'] = error_rules_der['feature_conditions'].map(lambda x: '#ef8a62' if x.startswith('All data') else '#67a9cf')\n",
    "error_rules_der"
   ]
  },
  {
   "cell_type": "code",
   "execution_count": null,
   "metadata": {},
   "outputs": [],
   "source": [
    "error_rules_der.sort_values(by='feature_conditions').reset_index(drop = True)\n",
    "error_rules_der['feature_conditions'] = pd.Categorical(error_rules_der.feature_conditions, categories=pd.unique(error_rules_der.feature_conditions))"
   ]
  },
  {
   "cell_type": "code",
   "execution_count": null,
   "metadata": {},
   "outputs": [],
   "source": [
    "error_rules_der['metric'] = pd.Categorical(error_rules_der['metric'], \n",
    "                             ordered=True,\n",
    "                             categories=[\"DER\"])"
   ]
  },
  {
   "cell_type": "code",
   "execution_count": null,
   "metadata": {},
   "outputs": [],
   "source": [
    "p9.ggplot(error_rules_der,\n",
    "  p9.aes(x = 'feature_conditions', y = 'values', fill='Colour')\n",
    "  ) + \\\n",
    "  p9.theme_bw() + \\\n",
    "  p9.geom_boxplot(position = p9.position_dodge(-0.85), ) + \\\n",
    "  p9.scale_fill_manual(values=['#ef8a62', '#67a9cf'])  +\\\n",
    "  p9.facet_wrap(facets = '~metric', ncol = 1) + \\\n",
    "  p9.xlab('Feature Conditions') + \\\n",
    "  p9.ylab('Value (%)') + \\\n",
    "  p9.coord_flip() + \\\n",
    "  p9.theme(\n",
    "    legend_position = 'none',\n",
    "    figure_size = (6, 6),\n",
    "    legend_title = p9.element_blank(),    \n",
    "    text = p9.element_text(size=12, weight='bold')\n",
    "  )"
   ]
  },
  {
   "cell_type": "code",
   "execution_count": null,
   "metadata": {},
   "outputs": [],
   "source": [
    "\n",
    "plot = p9.ggplot(error_rules_der,\n",
    "  p9.aes(x = 'feature_conditions', y = 'values', fill='Colour')\n",
    "  ) + \\\n",
    "  p9.theme_bw() + \\\n",
    "  p9.geom_boxplot(position = p9.position_dodge(-0.85), ) + \\\n",
    "  p9.scale_fill_manual(values=['#ef8a62', '#67a9cf'])  +\\\n",
    "  p9.facet_wrap(facets = '~metric', ncol = 1) + \\\n",
    "  p9.xlab('Feature Conditions') + \\\n",
    "  p9.ylab('Value (%)') + \\\n",
    "  p9.coord_flip() + \\\n",
    "  p9.theme(\n",
    "    legend_position = 'none',\n",
    "    figure_size = (6, 6),\n",
    "    legend_title = p9.element_blank(),    \n",
    "    text = p9.element_text(size=13, weight='bold')\n",
    "  )\n",
    "plot\n",
    "save_file = f'\\\\research_data\\\\output/{APPROACH}_all_{VERSION}/all_subgroups_pyaudio_der_outliers.png'\n",
    "plot.save(filename = save_file, dpi = 300)"
   ]
  },
  {
   "cell_type": "code",
   "execution_count": null,
   "metadata": {},
   "outputs": [],
   "source": [
    "file_pyaud_cov = f'\\\\research_data\\\\edrs\\\\{APPROACH}_Coverage_pyaudio.csv'\n",
    "error_rules_pyaud_cov = pd.read_csv(file_pyaud_cov,  sep = ';')\n",
    "error_rules_pyaud_cov['Method'] = ''\n",
    "error_rules_pyaud_cov_2, label_pyaud_cov = get_df_per_method(error_rules_pyaud_cov, 'Coverage')\n",
    "error_rules_cov = error_rules_pyaud_cov_2\n",
    "\n",
    "labels_cov = error_rules_cov['feature_conditions'].unique()\n",
    "labels_cov = labels_cov[1:]\n",
    "labels_cov.sort()\n",
    "labels_cov = labels_cov[::-1]\n",
    "labels_cov = np.append(labels_cov, label_pyaud_cov)\n",
    "error_rules_cov['feature_conditions'] = pd.Categorical(error_rules_cov['feature_conditions'], labels_cov)\n",
    "error_rules = error_rules_cov\n",
    "error_rules_cov['Colour'] = error_rules_cov['feature_conditions'].map(lambda x: '#ef8a62' if x.startswith('All data') else '#67a9cf')\n",
    "error_rules_cov\n",
    "error_rules_cov.sort_values(by='feature_conditions').reset_index(drop = True)\n",
    "error_rules_cov['feature_conditions'] = pd.Categorical(error_rules_cov.feature_conditions, categories=pd.unique(error_rules_cov.feature_conditions))\n",
    "error_rules_cov['metric'] = pd.Categorical(error_rules_cov['metric'], \n",
    "                             ordered=True,\n",
    "                             categories=[\"Coverage\"])"
   ]
  },
  {
   "cell_type": "code",
   "execution_count": null,
   "metadata": {},
   "outputs": [],
   "source": [
    "\n",
    "p9.ggplot(error_rules_cov,\n",
    "  p9.aes(x = 'feature_conditions', y = 'values', fill='Colour')\n",
    "  ) + \\\n",
    "  p9.theme_bw() + \\\n",
    "  p9.geom_boxplot(position = p9.position_dodge(-0.85), ) + \\\n",
    "  p9.scale_fill_manual(values=['#ef8a62', '#67a9cf'])  +\\\n",
    "  p9.facet_wrap(facets = '~metric', ncol = 1) + \\\n",
    "  p9.xlab('Feature Conditions') + \\\n",
    "  p9.coord_flip() + \\\n",
    "  p9.ylab('Value (%)') + \\\n",
    "  p9.theme(\n",
    "    legend_position = 'none',\n",
    "    figure_size = (6, 6),\n",
    "    legend_title = p9.element_blank(),    \n",
    "    text = p9.element_text(size=12, weight='bold')\n",
    "  )"
   ]
  },
  {
   "cell_type": "code",
   "execution_count": null,
   "metadata": {},
   "outputs": [],
   "source": [
    "plot = p9.ggplot(error_rules_cov,\n",
    "  p9.aes(x = 'feature_conditions', y = 'values', fill='Colour')\n",
    "  ) + \\\n",
    "  p9.theme_bw() + \\\n",
    "  p9.geom_boxplot(position = p9.position_dodge(-0.85), ) + \\\n",
    "  p9.scale_fill_manual(values=['#ef8a62', '#67a9cf'])  +\\\n",
    "  p9.facet_wrap(facets = '~metric', ncol = 1) + \\\n",
    "  p9.xlab('Feature Conditions') + \\\n",
    "  p9.coord_flip() + \\\n",
    "  p9.ylab('Value (%)') + \\\n",
    "  p9.theme(\n",
    "    legend_position = 'none',\n",
    "    figure_size = (6, 6),\n",
    "    legend_title = p9.element_blank(),    \n",
    "    text = p9.element_text(size=13, weight='bold')\n",
    "  )\n",
    "plot\n",
    "save_file = f'\\\\research_data\\\\output/{APPROACH}_all_{VERSION}/all_subgroups_pyaudio_cov_outliers.png'\n",
    "plot.save(filename = save_file, dpi = 300)"
   ]
  },
  {
   "cell_type": "code",
   "execution_count": null,
   "metadata": {},
   "outputs": [],
   "source": [
    "full_pyaudio_df = pd.concat([error_rules_der, error_rules_cov])\n",
    "full_pyaudio_df"
   ]
  },
  {
   "cell_type": "code",
   "execution_count": null,
   "metadata": {},
   "outputs": [],
   "source": [
    "full_pyaudio_df['metric'] = pd.Categorical(full_pyaudio_df['metric'], \n",
    "                             ordered=False,\n",
    "                             categories=[\"DER\",  \"Coverage\"])"
   ]
  },
  {
   "cell_type": "code",
   "execution_count": null,
   "metadata": {},
   "outputs": [],
   "source": [
    "plot = p9.ggplot(full_pyaudio_df,\n",
    "  p9.aes(x = 'feature_conditions', y = 'values', fill='Colour')\n",
    "  ) + \\\n",
    "  p9.theme_bw() + \\\n",
    "  p9.geom_boxplot() + \\\n",
    "  p9.scale_fill_manual(values=['#ef8a62', '#67a9cf'])  +\\\n",
    "  p9.facet_wrap(facets = '~metric', ncol = 2, scales = 'free') + \\\n",
    "  p9.xlab('Feature Conditions') + \\\n",
    "  p9.ylab('Value (%)') + \\\n",
    "  p9.coord_flip() + \\\n",
    "  p9.theme(\n",
    "    legend_position = 'none',\n",
    "    figure_size = (16, 9),\n",
    "    legend_title = p9.element_blank(),    \n",
    "    axis_text_x  = p9.element_text(angle = 40, hjust = 3), \n",
    "    text = p9.element_text(size=16, weight='bold')\n",
    "  )\n",
    "plot\n",
    "# save_file = f'\\\\research_data\\\\output/{APPROACH}_all_{VERSION}/all_subgroups_pyaudio_outliers.png'\n",
    "# plot.save(filename = save_file, dpi = 300)"
   ]
  },
  {
   "cell_type": "code",
   "execution_count": null,
   "metadata": {},
   "outputs": [],
   "source": [
    "\n",
    "\n",
    "plot = p9.ggplot(error_rules_cov,\n",
    "  p9.aes(x = 'feature_conditions', y = 'values', fill='Colour')\n",
    "  ) + \\\n",
    "  p9.theme_bw() + \\\n",
    "  p9.geom_boxplot(position = p9.position_dodge(-0.85), ) + \\\n",
    "  p9.scale_fill_manual(values=['#ef8a62', '#67a9cf'])  +\\\n",
    "  p9.xlab('Feature Conditions') + \\\n",
    "  p9.ylab('Value (%)') + \\\n",
    "  p9.coord_flip() + \\\n",
    "  p9.theme(\n",
    "    legend_position = 'none',\n",
    "    figure_size = (10, 6),\n",
    "    legend_title = p9.element_blank(),    \n",
    "    axis_text_x  = p9.element_text(angle = 35, hjust = 3), \n",
    "    text = p9.element_text(size=12, weight='bold')\n",
    "  )\n",
    "plot\n",
    "save_file = f'\\\\research_data\\\\output/{APPROACH}_all_{VERSION}/all_subgroups_pyaudio_coverage_outliers.png'\n",
    "plot.save(filename = save_file, dpi = 300)"
   ]
  },
  {
   "cell_type": "code",
   "execution_count": null,
   "metadata": {},
   "outputs": [],
   "source": []
  }
 ],
 "metadata": {
  "kernelspec": {
   "display_name": "Python 3",
   "language": "python",
   "name": "python3"
  },
  "language_info": {
   "codemirror_mode": {
    "name": "ipython",
    "version": 3
   },
   "file_extension": ".py",
   "mimetype": "text/x-python",
   "name": "python",
   "nbconvert_exporter": "python",
   "pygments_lexer": "ipython3",
   "version": "3.10.11"
  }
 },
 "nbformat": 4,
 "nbformat_minor": 2
}
